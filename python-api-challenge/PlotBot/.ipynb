{
 "cells": [
  {
   "cell_type": "markdown",
   "metadata": {},
   "source": [
    "## Import Packages and Authenticate"
   ]
  },
  {
   "cell_type": "code",
   "execution_count": 35,
   "metadata": {},
   "outputs": [],
   "source": [
    "# Dependencies\n",
    "import tweepy\n",
    "import pandas as pd\n",
    "import numpy as np\n",
    "import json\n",
    "import requests\n",
    "import matplotlib.pyplot as plt\n",
    "import time\n",
    "from vaderSentiment.vaderSentiment import SentimentIntensityAnalyzer\n",
    "analyzer = SentimentIntensityAnalyzer()\n",
    "from config import (consumer_key, consumer_secret,\n",
    "                    access_token, access_token_secret)\n",
    "\n",
    "# Setup Tweepy API Authentication\n",
    "auth = tweepy.OAuthHandler(consumer_key, consumer_secret)\n",
    "auth.set_access_token(access_token, access_token_secret)\n",
    "api = tweepy.API(auth, parser=tweepy.parsers.JSONParser())"
   ]
  },
  {
   "cell_type": "markdown",
   "metadata": {},
   "source": [
    "## Pull Mentions"
   ]
  },
  {
   "cell_type": "code",
   "execution_count": 10,
   "metadata": {},
   "outputs": [
    {
     "data": {
      "text/html": [
       "<div>\n",
       "<style scoped>\n",
       "    .dataframe tbody tr th:only-of-type {\n",
       "        vertical-align: middle;\n",
       "    }\n",
       "\n",
       "    .dataframe tbody tr th {\n",
       "        vertical-align: top;\n",
       "    }\n",
       "\n",
       "    .dataframe thead th {\n",
       "        text-align: right;\n",
       "    }\n",
       "</style>\n",
       "<table border=\"1\" class=\"dataframe\">\n",
       "  <thead>\n",
       "    <tr style=\"text-align: right;\">\n",
       "      <th></th>\n",
       "      <th>Account</th>\n",
       "      <th>Date</th>\n",
       "    </tr>\n",
       "  </thead>\n",
       "  <tbody>\n",
       "    <tr>\n",
       "      <th>0</th>\n",
       "      <td>@espn</td>\n",
       "      <td>2019-11-07 15:55:35</td>\n",
       "    </tr>\n",
       "    <tr>\n",
       "      <th>1</th>\n",
       "      <td>@DennisRodman</td>\n",
       "      <td>2019-11-07 15:46:30</td>\n",
       "    </tr>\n",
       "    <tr>\n",
       "      <th>2</th>\n",
       "      <td>@DwyaneWade</td>\n",
       "      <td>2019-11-07 15:19:24</td>\n",
       "    </tr>\n",
       "    <tr>\n",
       "      <th>3</th>\n",
       "      <td>@BarackObama</td>\n",
       "      <td>2019-11-07 15:18:04</td>\n",
       "    </tr>\n",
       "    <tr>\n",
       "      <th>4</th>\n",
       "      <td>@espn</td>\n",
       "      <td>2019-11-06 13:49:34</td>\n",
       "    </tr>\n",
       "  </tbody>\n",
       "</table>\n",
       "</div>"
      ],
      "text/plain": [
       "         Account                 Date\n",
       "0          @espn  2019-11-07 15:55:35\n",
       "1  @DennisRodman  2019-11-07 15:46:30\n",
       "2    @DwyaneWade  2019-11-07 15:19:24\n",
       "3   @BarackObama  2019-11-07 15:18:04\n",
       "4          @espn  2019-11-06 13:49:34"
      ]
     },
     "execution_count": 10,
     "metadata": {},
     "output_type": "execute_result"
    }
   ],
   "source": [
    "# Search for all tweets with \"@JohnZalk Analyze:\"\n",
    "search_term = \"@JohnZalk Analyze:\"\n",
    "\n",
    "# List of mentions\n",
    "mention_list = []\n",
    "\n",
    "mentions = api.search(search_term, count=100)\n",
    "\n",
    "for mention in mentions[\"statuses\"]:\n",
    "    \n",
    "    # add tweets to the list\n",
    "    mention_list.append({'Account' : mention[\"text\"].split(\": \",1)[1],\n",
    "                         # convert date\n",
    "                         'Date' : time.strftime('%Y-%m-%d %H:%M:%S',\n",
    "                                                time.strptime(mention['created_at'],\n",
    "                                                              '%a %b %d %H:%M:%S +0000 %Y'))})\n",
    "\n",
    "# turn tweets to df\n",
    "mention_list\n",
    "mention_df = pd.DataFrame(mention_list)\n",
    "mention_df.head()"
   ]
  },
  {
   "cell_type": "code",
   "execution_count": 14,
   "metadata": {},
   "outputs": [
    {
     "data": {
      "text/html": [
       "<div>\n",
       "<style scoped>\n",
       "    .dataframe tbody tr th:only-of-type {\n",
       "        vertical-align: middle;\n",
       "    }\n",
       "\n",
       "    .dataframe tbody tr th {\n",
       "        vertical-align: top;\n",
       "    }\n",
       "\n",
       "    .dataframe thead th {\n",
       "        text-align: right;\n",
       "    }\n",
       "</style>\n",
       "<table border=\"1\" class=\"dataframe\">\n",
       "  <thead>\n",
       "    <tr style=\"text-align: right;\">\n",
       "      <th></th>\n",
       "      <th>Account</th>\n",
       "      <th>Date</th>\n",
       "      <th>Count</th>\n",
       "    </tr>\n",
       "  </thead>\n",
       "  <tbody>\n",
       "    <tr>\n",
       "      <th>1</th>\n",
       "      <td>@DennisRodman</td>\n",
       "      <td>2019-11-07 15:46:30</td>\n",
       "      <td>1</td>\n",
       "    </tr>\n",
       "    <tr>\n",
       "      <th>2</th>\n",
       "      <td>@DwyaneWade</td>\n",
       "      <td>2019-11-07 15:19:24</td>\n",
       "      <td>1</td>\n",
       "    </tr>\n",
       "    <tr>\n",
       "      <th>3</th>\n",
       "      <td>@BarackObama</td>\n",
       "      <td>2019-11-07 15:18:04</td>\n",
       "      <td>1</td>\n",
       "    </tr>\n",
       "  </tbody>\n",
       "</table>\n",
       "</div>"
      ],
      "text/plain": [
       "         Account                 Date  Count\n",
       "1  @DennisRodman  2019-11-07 15:46:30      1\n",
       "2    @DwyaneWade  2019-11-07 15:19:24      1\n",
       "3   @BarackObama  2019-11-07 15:18:04      1"
      ]
     },
     "execution_count": 14,
     "metadata": {},
     "output_type": "execute_result"
    }
   ],
   "source": [
    "#remove Account that have been mentioned twice\n",
    "counts = mention_df['Account'].value_counts()\n",
    "counts\n",
    "\n",
    "counts = counts.to_dict() #converts to dictionary\n",
    "\n",
    "#add counts to mentions df\n",
    "mention_df['Count'] = mention_df['Account'].map(counts) \n",
    "\n",
    "#remove counts > 1\n",
    "mention_df = mention_df[mention_df.Count < 2]\n",
    "mention_df"
   ]
  },
  {
   "cell_type": "code",
   "execution_count": 15,
   "metadata": {},
   "outputs": [
    {
     "data": {
      "text/plain": [
       "'@DennisRodman'"
      ]
     },
     "execution_count": 15,
     "metadata": {},
     "output_type": "execute_result"
    }
   ],
   "source": [
    "#take most recent mention\n",
    "recent_date = mention_df['Date'].max()\n",
    "mention_df=mention_df[mention_df['Date'] == recent_date]\n",
    "mention_df\n",
    "#turn account value to string\n",
    "target_account = mention_df.iloc[0]['Account']\n",
    "target_account"
   ]
  },
  {
   "cell_type": "markdown",
   "metadata": {},
   "source": [
    "## Pull Last 500 Tweets and Store in DF"
   ]
  },
  {
   "cell_type": "code",
   "execution_count": 16,
   "metadata": {},
   "outputs": [
    {
     "data": {
      "text/html": [
       "<div>\n",
       "<style scoped>\n",
       "    .dataframe tbody tr th:only-of-type {\n",
       "        vertical-align: middle;\n",
       "    }\n",
       "\n",
       "    .dataframe tbody tr th {\n",
       "        vertical-align: top;\n",
       "    }\n",
       "\n",
       "    .dataframe thead th {\n",
       "        text-align: right;\n",
       "    }\n",
       "</style>\n",
       "<table border=\"1\" class=\"dataframe\">\n",
       "  <thead>\n",
       "    <tr style=\"text-align: right;\">\n",
       "      <th></th>\n",
       "      <th>0</th>\n",
       "    </tr>\n",
       "  </thead>\n",
       "  <tbody>\n",
       "    <tr>\n",
       "      <th>0</th>\n",
       "      <td>Got artist @patrick_ganino to paint this portr...</td>\n",
       "    </tr>\n",
       "    <tr>\n",
       "      <th>1</th>\n",
       "      <td>Get your limited edition basketball with artwo...</td>\n",
       "    </tr>\n",
       "    <tr>\n",
       "      <th>2</th>\n",
       "      <td>Limited edition basketball with reproduction o...</td>\n",
       "    </tr>\n",
       "    <tr>\n",
       "      <th>3</th>\n",
       "      <td>@KuzPalms @NBA Thanks dude.</td>\n",
       "    </tr>\n",
       "    <tr>\n",
       "      <th>4</th>\n",
       "      <td>@stinkylewis2k @Ballislife @NBA Replied.</td>\n",
       "    </tr>\n",
       "  </tbody>\n",
       "</table>\n",
       "</div>"
      ],
      "text/plain": [
       "                                                   0\n",
       "0  Got artist @patrick_ganino to paint this portr...\n",
       "1  Get your limited edition basketball with artwo...\n",
       "2  Limited edition basketball with reproduction o...\n",
       "3                        @KuzPalms @NBA Thanks dude.\n",
       "4           @stinkylewis2k @Ballislife @NBA Replied."
      ]
     },
     "execution_count": 16,
     "metadata": {},
     "output_type": "execute_result"
    }
   ],
   "source": [
    "tweet_list =[]\n",
    "\n",
    "# Loop through 21 pages of tweets (total 500 tweets)\n",
    "for x in range(1, 21):\n",
    "\n",
    "    # Get all tweets from home feed\n",
    "    tweets = api.user_timeline(target_account, page=x)\n",
    "\n",
    "    # Loop through all tweets and print the tweet text\n",
    "    for tweet in tweets:\n",
    "        tweet_list.append(tweet['text'])\n",
    "        \n",
    "tweet_list\n",
    "tweet_df = pd.DataFrame(tweet_list)\n",
    "tweet_df.head()"
   ]
  },
  {
   "cell_type": "code",
   "execution_count": 29,
   "metadata": {
    "scrolled": true
   },
   "outputs": [
    {
     "data": {
      "text/html": [
       "<div>\n",
       "<style scoped>\n",
       "    .dataframe tbody tr th:only-of-type {\n",
       "        vertical-align: middle;\n",
       "    }\n",
       "\n",
       "    .dataframe tbody tr th {\n",
       "        vertical-align: top;\n",
       "    }\n",
       "\n",
       "    .dataframe thead th {\n",
       "        text-align: right;\n",
       "    }\n",
       "</style>\n",
       "<table border=\"1\" class=\"dataframe\">\n",
       "  <thead>\n",
       "    <tr style=\"text-align: right;\">\n",
       "      <th></th>\n",
       "      <th>Tweet</th>\n",
       "      <th>Tweets Ago</th>\n",
       "      <th>Tweet Polarity</th>\n",
       "    </tr>\n",
       "  </thead>\n",
       "  <tbody>\n",
       "    <tr>\n",
       "      <th>0</th>\n",
       "      <td>Got artist @patrick_ganino to paint this portr...</td>\n",
       "      <td>0</td>\n",
       "      <td>0</td>\n",
       "    </tr>\n",
       "    <tr>\n",
       "      <th>1</th>\n",
       "      <td>Get your limited edition basketball with artwo...</td>\n",
       "      <td>-1</td>\n",
       "      <td>0</td>\n",
       "    </tr>\n",
       "    <tr>\n",
       "      <th>2</th>\n",
       "      <td>Limited edition basketball with reproduction o...</td>\n",
       "      <td>-2</td>\n",
       "      <td>0</td>\n",
       "    </tr>\n",
       "    <tr>\n",
       "      <th>3</th>\n",
       "      <td>@KuzPalms @NBA Thanks dude.</td>\n",
       "      <td>-3</td>\n",
       "      <td>0</td>\n",
       "    </tr>\n",
       "    <tr>\n",
       "      <th>4</th>\n",
       "      <td>@stinkylewis2k @Ballislife @NBA Replied.</td>\n",
       "      <td>-4</td>\n",
       "      <td>0</td>\n",
       "    </tr>\n",
       "  </tbody>\n",
       "</table>\n",
       "</div>"
      ],
      "text/plain": [
       "                                               Tweet  Tweets Ago  \\\n",
       "0  Got artist @patrick_ganino to paint this portr...           0   \n",
       "1  Get your limited edition basketball with artwo...          -1   \n",
       "2  Limited edition basketball with reproduction o...          -2   \n",
       "3                        @KuzPalms @NBA Thanks dude.          -3   \n",
       "4           @stinkylewis2k @Ballislife @NBA Replied.          -4   \n",
       "\n",
       "   Tweet Polarity  \n",
       "0               0  \n",
       "1               0  \n",
       "2               0  \n",
       "3               0  \n",
       "4               0  "
      ]
     },
     "execution_count": 29,
     "metadata": {},
     "output_type": "execute_result"
    }
   ],
   "source": [
    "#rename column\n",
    "tweet_df.rename(columns = {0:'Tweet'}, inplace = True)\n",
    "##create column Tweets Ago for x axis of sentiment plot\n",
    "# count nuber of tweets becuase not all accounts have 500 and make number negative\n",
    "number_tweets = -len(tweet_df)\n",
    "#create an array 0 through number_tweets\n",
    "tweets_ago = np.arange(0,number_tweets,-1)\n",
    "#add array as column in df\n",
    "tweet_df['Tweets Ago'] = tweets_ago\n",
    "# create polarity column that's 0 for now\n",
    "tweet_df['Tweet Polarity'] = 0\n",
    "tweet_df.head()"
   ]
  },
  {
   "cell_type": "markdown",
   "metadata": {},
   "source": [
    "## Compute Polarity Score"
   ]
  },
  {
   "cell_type": "code",
   "execution_count": 33,
   "metadata": {
    "scrolled": true
   },
   "outputs": [
    {
     "data": {
      "text/html": [
       "<div>\n",
       "<style scoped>\n",
       "    .dataframe tbody tr th:only-of-type {\n",
       "        vertical-align: middle;\n",
       "    }\n",
       "\n",
       "    .dataframe tbody tr th {\n",
       "        vertical-align: top;\n",
       "    }\n",
       "\n",
       "    .dataframe thead th {\n",
       "        text-align: right;\n",
       "    }\n",
       "</style>\n",
       "<table border=\"1\" class=\"dataframe\">\n",
       "  <thead>\n",
       "    <tr style=\"text-align: right;\">\n",
       "      <th></th>\n",
       "      <th>Tweet</th>\n",
       "      <th>Tweets Ago</th>\n",
       "      <th>Tweet Polarity</th>\n",
       "    </tr>\n",
       "  </thead>\n",
       "  <tbody>\n",
       "    <tr>\n",
       "      <th>0</th>\n",
       "      <td>Got artist @patrick_ganino to paint this portr...</td>\n",
       "      <td>0</td>\n",
       "      <td>0.7845</td>\n",
       "    </tr>\n",
       "    <tr>\n",
       "      <th>1</th>\n",
       "      <td>Get your limited edition basketball with artwo...</td>\n",
       "      <td>-1</td>\n",
       "      <td>-0.4215</td>\n",
       "    </tr>\n",
       "    <tr>\n",
       "      <th>2</th>\n",
       "      <td>Limited edition basketball with reproduction o...</td>\n",
       "      <td>-2</td>\n",
       "      <td>-0.2263</td>\n",
       "    </tr>\n",
       "    <tr>\n",
       "      <th>3</th>\n",
       "      <td>@KuzPalms @NBA Thanks dude.</td>\n",
       "      <td>-3</td>\n",
       "      <td>0.4404</td>\n",
       "    </tr>\n",
       "    <tr>\n",
       "      <th>4</th>\n",
       "      <td>@stinkylewis2k @Ballislife @NBA Replied.</td>\n",
       "      <td>-4</td>\n",
       "      <td>0.0000</td>\n",
       "    </tr>\n",
       "  </tbody>\n",
       "</table>\n",
       "</div>"
      ],
      "text/plain": [
       "                                               Tweet  Tweets Ago  \\\n",
       "0  Got artist @patrick_ganino to paint this portr...           0   \n",
       "1  Get your limited edition basketball with artwo...          -1   \n",
       "2  Limited edition basketball with reproduction o...          -2   \n",
       "3                        @KuzPalms @NBA Thanks dude.          -3   \n",
       "4           @stinkylewis2k @Ballislife @NBA Replied.          -4   \n",
       "\n",
       "   Tweet Polarity  \n",
       "0          0.7845  \n",
       "1         -0.4215  \n",
       "2         -0.2263  \n",
       "3          0.4404  \n",
       "4          0.0000  "
      ]
     },
     "execution_count": 33,
     "metadata": {},
     "output_type": "execute_result"
    }
   ],
   "source": [
    "# loop through tweets and compute polarity score. Append score to list.\n",
    "polarity=[]\n",
    "for row in tweet_df['Tweet']:\n",
    "    results = analyzer.polarity_scores(row)\n",
    "    polarity.append(results['compound'])\n",
    "\n",
    "# turn list into df column\n",
    "tweet_df['Tweet Polarity'] = polarity\n",
    "tweet_df.head()"
   ]
  },
  {
   "cell_type": "markdown",
   "metadata": {},
   "source": [
    "## Plot"
   ]
  },
  {
   "cell_type": "code",
   "execution_count": 49,
   "metadata": {
    "scrolled": true
   },
   "outputs": [
    {
     "data": {
      "text/plain": [
       "(-1, 1)"
      ]
     },
     "execution_count": 49,
     "metadata": {},
     "output_type": "execute_result"
    },
    {
     "data": {
      "image/png": "[encoded data removed]",
      "text/plain": [
       "<Figure size 432x288 with 1 Axes>"
      ]
     },
     "metadata": {
      "needs_background": "light"
     },
     "output_type": "display_data"
    }
   ],
   "source": [
    "plt.stem(tweet_df['Tweets Ago'], tweet_df['Tweet Polarity'], basefmt=' ', use_line_collection = True)\n",
    "plt.title(\"Sentiment Analysis of Tweets by \" + target_account)\n",
    "plt.ylabel('Tweet Polarity')\n",
    "plt.xlabel(\"Tweets Ago\")\n",
    "plt.grid(linestyle='-', linewidth='0.5', color='grey')\n",
    "plt.ylim(-1,1)"
   ]
  },
  {
   "cell_type": "markdown",
   "metadata": {},
   "source": [
    "## Tweet Plot"
   ]
  },
  {
   "cell_type": "code",
   "execution_count": null,
   "metadata": {},
   "outputs": [],
   "source": []
  }
 ],
 "metadata": {
  "kernelspec": {
   "display_name": "Python 3",
   "language": "python",
   "name": "python3"
  },
  "language_info": {
   "codemirror_mode": {
    "name": "ipython",
    "version": 3
   },
   "file_extension": ".py",
   "mimetype": "text/x-python",
   "name": "python",
   "nbconvert_exporter": "python",
   "pygments_lexer": "ipython3",
   "version": "3.7.3"
  }
 },
 "nbformat": 4,
 "nbformat_minor": 2
}
